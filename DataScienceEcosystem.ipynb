{
 "cells": [
  {
   "cell_type": "markdown",
   "id": "fe93f9b3-944f-45ff-8e23-6f412ae24995",
   "metadata": {},
   "source": [
    "# Data Science Tools and Ecosystem"
   ]
  },
  {
   "cell_type": "markdown",
   "id": "a0c1bbf0-d02e-4817-989b-a7c37b90c564",
   "metadata": {
    "tags": []
   },
   "source": [
    "In this notebook, Data Science Tools and Ecosystem are summarized."
   ]
  },
  {
   "cell_type": "markdown",
   "id": "efaffc59-227b-4083-92b9-9f46353b7932",
   "metadata": {
    "tags": []
   },
   "source": [
    "**Objectives:**\n",
    "* List popular languages for Data Science\n",
    "* List common libraries for Data Science\n",
    "* List common tools for Data Science"
   ]
  },
  {
   "cell_type": "markdown",
   "id": "18821142-5af8-4133-b701-fdbe3efdeab8",
   "metadata": {},
   "source": [
    "Some of the popular languages that Data Scientists use are:\n",
    "1. Python\n",
    "2. R\n",
    "3. SQL\n",
    "4. No-SQL\n",
    "5. Java"
   ]
  },
  {
   "cell_type": "markdown",
   "id": "e57744bc-0ee0-43a4-b6e7-a9a25625e983",
   "metadata": {
    "tags": []
   },
   "source": [
    "Some of the commonly used libraries used by Data Scientists include:\n",
    "1. Pandas\n",
    "2. matplotlib\n",
    "3. ggplot\n",
    "4. plotly\n",
    "5. NumPy\n",
    "6. Seaborn\n",
    "7. Caret\n"
   ]
  },
  {
   "cell_type": "markdown",
   "id": "baa8b9c3-78e8-4987-96ad-1c03e1e178ba",
   "metadata": {
    "tags": []
   },
   "source": [
    "<table align=\"left\">\n",
    "\n",
    "| Data Science Tools |\n",
    "----------------------\n",
    "| Jupyter Notebook |\n",
    "| R Studio |\n",
    "| Github |"
   ]
  },
  {
   "cell_type": "markdown",
   "id": "bb196edb-634b-4085-ab21-66e6e6efdb52",
   "metadata": {
    "tags": []
   },
   "source": [
    "### Below are a few examples of evaluating arithmetic expressions in Python"
   ]
  },
  {
   "cell_type": "code",
   "execution_count": 5,
   "id": "865ad2bd-2892-454f-adb4-518ede2b0e03",
   "metadata": {
    "tags": []
   },
   "outputs": [
    {
     "data": {
      "text/plain": [
       "17"
      ]
     },
     "execution_count": 5,
     "metadata": {},
     "output_type": "execute_result"
    }
   ],
   "source": [
    "# This a simple arithmetic expression to mutiply then add integers\n",
    "(3*4)+5"
   ]
  },
  {
   "cell_type": "code",
   "execution_count": 6,
   "id": "b73b2fe6-299e-4078-858a-09f61abc15b6",
   "metadata": {
    "tags": []
   },
   "outputs": [
    {
     "data": {
      "text/plain": [
       "3.3333333333333335"
      ]
     },
     "execution_count": 6,
     "metadata": {},
     "output_type": "execute_result"
    }
   ],
   "source": [
    "# This will convert 200 minutes to hours by diving by 60\n",
    "200/60"
   ]
  },
  {
   "cell_type": "markdown",
   "id": "85596b4c-73f3-41fa-8d26-1a91df6e5318",
   "metadata": {},
   "source": [
    "## Author\n",
    "Eremian Ruslan"
   ]
  }
 ],
 "metadata": {
  "kernelspec": {
   "display_name": "Python",
   "language": "python",
   "name": "conda-env-python-py"
  },
  "language_info": {
   "codemirror_mode": {
    "name": "ipython",
    "version": 3
   },
   "file_extension": ".py",
   "mimetype": "text/x-python",
   "name": "python",
   "nbconvert_exporter": "python",
   "pygments_lexer": "ipython3",
   "version": "3.7.12"
  }
 },
 "nbformat": 4,
 "nbformat_minor": 5
}
